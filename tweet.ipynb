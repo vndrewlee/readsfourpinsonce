{
 "cells": [
  {
   "cell_type": "code",
   "execution_count": 1,
   "metadata": {
    "collapsed": true
   },
   "outputs": [],
   "source": [
    "from pymarkovchain import MarkovChain\n",
    "\n",
    "mc = MarkovChain(dbFilePath='./database.pkl')\n",
    "\n",
    "tweet_text = mc.generateString()\n",
    "\n",
    "import json\n",
    "\n",
    "with open('credentials.json') as data_file:    \n",
    "    credentials = json.load(data_file)\n",
    "\n",
    "import tweepy\n",
    "\n",
    "auth = tweepy.OAuthHandler(consumer_key=credentials['tw_key'], consumer_secret=credentials['tw_secret'])\n",
    "\n",
    "auth.set_access_token(\n",
    "    key=credentials['tw_access_token'], \n",
    "    secret=credentials['tw_access_token_secret'])\n",
    "\n",
    "tw = tweepy.API(auth)\n",
    "\n",
    "tw.update_status(status=tweet_text)"
   ]
  },
  {
   "cell_type": "code",
   "execution_count": null,
   "metadata": {
    "collapsed": true
   },
   "outputs": [],
   "source": []
  }
 ],
 "metadata": {
  "kernelspec": {
   "display_name": "Python 3",
   "language": "python",
   "name": "python3"
  },
  "language_info": {
   "codemirror_mode": {
    "name": "ipython",
    "version": 3
   },
   "file_extension": ".py",
   "mimetype": "text/x-python",
   "name": "python",
   "nbconvert_exporter": "python",
   "pygments_lexer": "ipython3",
   "version": "3.5.1"
  }
 },
 "nbformat": 4,
 "nbformat_minor": 0
}
