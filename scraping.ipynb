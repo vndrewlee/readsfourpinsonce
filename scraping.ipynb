{
 "cells": [
  {
   "cell_type": "code",
   "execution_count": 151,
   "metadata": {
    "collapsed": true
   },
   "outputs": [],
   "source": [
    "from lxml import html\n",
    "\n",
    "import requests\n",
    "\n",
    "file = open('./best.html')\n",
    "\n",
    "best_html = file.read()\n",
    "\n",
    "tree = html.fromstring(best_html)\n",
    "\n",
    "article = tree.find_class('article-copy')[0]\n",
    "\n",
    "links = [link for link in article.iterlinks()]\n",
    "\n",
    "links = [link[2] for link in links]\n",
    "\n",
    "article_strings = []\n",
    "\n",
    "for link in links:\n",
    "    try:\n",
    "        page = requests.get(link)\n",
    "\n",
    "        tree = html.fromstring(page.content)\n",
    "\n",
    "        article = tree.find_class('article__copy')[0]\n",
    "\n",
    "        article_string = article.text_content()\n",
    "        \n",
    "        article_strings.append(article_string)\n",
    "    except:\n",
    "        pass\n",
    "\n",
    "article_strings = [x for x in article_strings]\n",
    "\n",
    "space = ' '\n",
    "\n",
    "markov_seed_string = space.join(article_strings)\n",
    "\n",
    "markov_seed_string = ''.join([i if ord(i) < 128 else ' ' for i in markov_seed_string])\n",
    "\n",
    "markov_seed_string = markov_seed_string.replace('\\n', ' ').replace('*', '').replace('\"', '')"
   ]
  },
  {
   "cell_type": "code",
   "execution_count": 152,
   "metadata": {
    "collapsed": true
   },
   "outputs": [],
   "source": [
    "markov_seed_string = markov_seed_string.lower()"
   ]
  },
  {
   "cell_type": "code",
   "execution_count": 153,
   "metadata": {
    "collapsed": true
   },
   "outputs": [],
   "source": [
    "f = open(\"markov_seed_string.txt\",\"w\") #opens file with name of \"test.txt\"\n",
    "\n",
    "f.write(markov_seed_string)\n",
    "\n",
    "f.close()"
   ]
  },
  {
   "cell_type": "code",
   "execution_count": 154,
   "metadata": {
    "collapsed": false
   },
   "outputs": [],
   "source": [
    "from pymarkovchain import MarkovChain\n",
    "\n",
    "mc = MarkovChain(dbFilePath='./database.pkl')\n",
    "\n",
    "mc.generateDatabase(markov_seed_string, n=2)\n",
    "\n",
    "mc.dumpdb()\n",
    "\n",
    "mc = MarkovChain(dbFilePath='./database.pkl')"
   ]
  },
  {
   "cell_type": "code",
   "execution_count": null,
   "metadata": {
    "collapsed": true
   },
   "outputs": [],
   "source": []
  }
 ],
 "metadata": {
  "kernelspec": {
   "display_name": "Python 3",
   "language": "python",
   "name": "python3"
  },
  "language_info": {
   "codemirror_mode": {
    "name": "ipython",
    "version": 3
   },
   "file_extension": ".py",
   "mimetype": "text/x-python",
   "name": "python",
   "nbconvert_exporter": "python",
   "pygments_lexer": "ipython3",
   "version": "3.5.1"
  }
 },
 "nbformat": 4,
 "nbformat_minor": 0
}
